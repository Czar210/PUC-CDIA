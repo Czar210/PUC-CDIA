{
  "nbformat": 4,
  "nbformat_minor": 0,
  "metadata": {
    "colab": {
      "provenance": [],
      "authorship_tag": "ABX9TyPOiEXDWv0IrD4TXtMu78F/",
      "include_colab_link": true
    },
    "kernelspec": {
      "name": "python3",
      "display_name": "Python 3"
    },
    "language_info": {
      "name": "python"
    }
  },
  "cells": [
    {
      "cell_type": "markdown",
      "metadata": {
        "id": "view-in-github",
        "colab_type": "text"
      },
      "source": [
        "<a href=\"https://colab.research.google.com/github/Czar210/PUC-CDIA/blob/1-semestre/Exercicios_6.ipynb\" target=\"_parent\"><img src=\"https://colab.research.google.com/assets/colab-badge.svg\" alt=\"Open In Colab\"/></a>"
      ]
    },
    {
      "cell_type": "code",
      "execution_count": 8,
      "metadata": {
        "colab": {
          "base_uri": "https://localhost:8080/"
        },
        "id": "6b3UrcOAJ8Qv",
        "outputId": "3c06f1b3-b5c4-401b-b4c1-0c1e05f12c47"
      },
      "outputs": [
        {
          "output_type": "stream",
          "name": "stdout",
          "text": [
            "88\n"
          ]
        }
      ],
      "source": [
        "#1. Importe o módulo random e use a função random.randint() para gerar um número aleatório entre 1 e 100.\n",
        "import random\n",
        "\n",
        "num = random.randint(1, 100)\n",
        "print(num)"
      ]
    },
    {
      "cell_type": "code",
      "source": [
        "#2. Importe o módulo math e use a função math.sqrt() para calcular a raiz quadrada de um número.\n",
        "import math\n",
        "\n",
        "num = math.sqrt(int(input()))\n",
        "print(num)"
      ],
      "metadata": {
        "colab": {
          "base_uri": "https://localhost:8080/"
        },
        "id": "HM5lEMUGKcxY",
        "outputId": "81077a8b-cbe4-4f43-fc34-6fced07b309a"
      },
      "execution_count": 13,
      "outputs": [
        {
          "output_type": "stream",
          "name": "stdout",
          "text": [
            "1423\n",
            "37.72267222772003\n"
          ]
        }
      ]
    },
    {
      "cell_type": "code",
      "source": [
        "#3. Crie uma lista de números inteiros e use a função sum() do Python para somar todos os números da lista.\n",
        "nint = [1,2,3,4,5,6,7,8,9,10]\n",
        "\n",
        "num = sum(nint)\n",
        "print(num)"
      ],
      "metadata": {
        "colab": {
          "base_uri": "https://localhost:8080/"
        },
        "id": "W2tTwXrUKvzI",
        "outputId": "57dbc631-6392-4d0e-bd70-73d9a03b898a"
      },
      "execution_count": 14,
      "outputs": [
        {
          "output_type": "stream",
          "name": "stdout",
          "text": [
            "55\n"
          ]
        }
      ]
    },
    {
      "cell_type": "code",
      "source": [
        "#4. Importe a constante pi do módulo math e use-a para calcular a área de um círculo com um raio de 5 unidades.\n",
        "\n",
        "import math\n",
        "\n",
        "raio5 = math.pi*(5**2)\n",
        "print(raio5)"
      ],
      "metadata": {
        "colab": {
          "base_uri": "https://localhost:8080/"
        },
        "id": "p6qQZQZ0LAmN",
        "outputId": "b8521fd3-4ea2-4534-b6b6-bd6e40b3d691"
      },
      "execution_count": 16,
      "outputs": [
        {
          "output_type": "stream",
          "name": "stdout",
          "text": [
            "78.53981633974483\n"
          ]
        }
      ]
    },
    {
      "cell_type": "code",
      "source": [
        "#5. Crie uma lista de nomes de frutas e use a função len() do Python para determinar quantos elementos a lista possui.\n",
        "\n",
        "nome_de_frutas = ['Maçã', 'Banana', 'Tomate', 'Abacate']\n",
        "\n",
        "lenfrutas = len(nome_de_frutas)\n",
        "print(lenfrutas)"
      ],
      "metadata": {
        "colab": {
          "base_uri": "https://localhost:8080/"
        },
        "id": "BGi502E5LfU0",
        "outputId": "9b4e8e3e-4c26-41c8-b8db-f7694ce50e5b"
      },
      "execution_count": 17,
      "outputs": [
        {
          "output_type": "stream",
          "name": "stdout",
          "text": [
            "4\n"
          ]
        }
      ]
    },
    {
      "cell_type": "code",
      "source": [
        "#6. Importe o módulo datetime e use a função datetime.now() para obter a data e a hora atuais.\n",
        "\n",
        "from datetime import datetime\n",
        "\n",
        "hora = datetime.now()\n",
        "\n",
        "print(hora)"
      ],
      "metadata": {
        "colab": {
          "base_uri": "https://localhost:8080/"
        },
        "id": "4OhJ0KMVTkrq",
        "outputId": "0ceb4ecf-5235-4d2e-b44e-601f1e0cc80b"
      },
      "execution_count": 21,
      "outputs": [
        {
          "output_type": "stream",
          "name": "stdout",
          "text": [
            "2023-04-04 12:49:36.860898\n"
          ]
        }
      ]
    },
    {
      "cell_type": "code",
      "source": [
        "#7. Importe o módulo os e use a função os.getcwd() para obter o diretório de trabalho atual.\n",
        "\n",
        "import os\n",
        "\n",
        "diretorio = os.getcwd()\n",
        "\n",
        "print(diretorio)"
      ],
      "metadata": {
        "colab": {
          "base_uri": "https://localhost:8080/"
        },
        "id": "BCRdGet2UcuA",
        "outputId": "86b95bbf-8b0b-4590-f0aa-6d9d6d0ae3bd"
      },
      "execution_count": 22,
      "outputs": [
        {
          "output_type": "stream",
          "name": "stdout",
          "text": [
            "/content\n"
          ]
        }
      ]
    },
    {
      "cell_type": "code",
      "source": [
        "#8. Crie uma lista de números inteiros e use a função max() do Python para encontrar o valor máximo da lista.\n",
        "\n",
        "lis = [1,2,3,4,5,6,7,8,9,10,123,1235234523,13,234,63454,75612,6754,523,7456,4,534,7451234,]\n",
        "\n",
        "max = max(lis)\n",
        "print(max)"
      ],
      "metadata": {
        "colab": {
          "base_uri": "https://localhost:8080/"
        },
        "id": "5kJ3UA2LVNU7",
        "outputId": "8c3aaaae-bd45-4cf9-b3d7-bb0df8e4a6ca"
      },
      "execution_count": 23,
      "outputs": [
        {
          "output_type": "stream",
          "name": "stdout",
          "text": [
            "1235234523\n"
          ]
        }
      ]
    },
    {
      "cell_type": "code",
      "source": [
        "#9. Crie uma lista de nomes de países e use a função sorted() do Python para classificar os nomes em ordem alfabética\n",
        "\n",
        "paises = ['Brasil','Groelandia','Escócia','Argentina','Zimbabwe', 'Lituania', 'Russia', 'China']\n",
        "\n",
        "paisesa = sorted(paises)\n",
        "\n",
        "print(paisesa)"
      ],
      "metadata": {
        "colab": {
          "base_uri": "https://localhost:8080/"
        },
        "id": "ltL94TN5VZZZ",
        "outputId": "aafa202b-b14e-41be-f304-72a2408abc74"
      },
      "execution_count": 32,
      "outputs": [
        {
          "output_type": "stream",
          "name": "stdout",
          "text": [
            "['Brasil', 'Groelandia', 'Escócia', 'Argentina', 'Zimbabwe', 'Lituania', 'Russia', 'China']\n",
            "['Argentina', 'Brasil', 'China', 'Escócia', 'Groelandia', 'Lituania', 'Russia', 'Zimbabwe']\n"
          ]
        }
      ]
    },
    {
      "cell_type": "code",
      "source": [
        "#10. Importe o módulo calendar e use a função calendar.monthrange() para determinar quantos dias há em fevereiro do ano atual.\n",
        "\n",
        "import calendar\n",
        "\n",
        "dias = calendar.monthrange(2023, 2)\n",
        "print(dias)"
      ],
      "metadata": {
        "colab": {
          "base_uri": "https://localhost:8080/"
        },
        "id": "fHVuTytcWllx",
        "outputId": "b3ed8674-55cd-47ec-b1d0-6d4b650c6913"
      },
      "execution_count": 35,
      "outputs": [
        {
          "output_type": "stream",
          "name": "stdout",
          "text": [
            "(2, 28)\n"
          ]
        }
      ]
    }
  ]
}