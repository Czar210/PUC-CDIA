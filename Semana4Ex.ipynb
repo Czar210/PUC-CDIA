{
  "nbformat": 4,
  "nbformat_minor": 0,
  "metadata": {
    "colab": {
      "provenance": [],
      "authorship_tag": "ABX9TyOjVVA44FrWy6ieq+ktRdry",
      "include_colab_link": true
    },
    "kernelspec": {
      "name": "python3",
      "display_name": "Python 3"
    },
    "language_info": {
      "name": "python"
    }
  },
  "cells": [
    {
      "cell_type": "markdown",
      "metadata": {
        "id": "view-in-github",
        "colab_type": "text"
      },
      "source": [
        "<a href=\"https://colab.research.google.com/github/Czar210/PUC-CDIA/blob/main/Semana4Ex.ipynb\" target=\"_parent\"><img src=\"https://colab.research.google.com/assets/colab-badge.svg\" alt=\"Open In Colab\"/></a>"
      ]
    },
    {
      "cell_type": "code",
      "execution_count": null,
      "metadata": {
        "colab": {
          "base_uri": "https://localhost:8080/"
        },
        "id": "pxCVuhlWiz_L",
        "outputId": "3f709c3e-0d28-464f-9a8e-ca60dbd00132"
      },
      "outputs": [
        {
          "output_type": "stream",
          "name": "stdout",
          "text": [
            "Fala um numero ae man: 0\n",
            "Par\n"
          ]
        }
      ],
      "source": [
        "#1.\tEscreva um programa que peça ao usuário para inserir um número inteiro e imprima se o número é par ou ímpar\n",
        "\n",
        "num = int(input(\"Fala um numero ae man: \"))\n",
        "\n",
        "if (num % 2 == 0):\n",
        "  print('Par')\n",
        "else:\n",
        "  print('Impar')"
      ]
    },
    {
      "cell_type": "code",
      "source": [
        "#2.\tEscreva um programa que peça ao usuário para inserir dois números e imprima o maior número\n",
        "\n",
        "num1 = int(input(\"Fala um numero ae man: \"))\n",
        "num2 = int(input(\"Fala outro numero ae man: \"))\n",
        "\n",
        "if (num1 > num2):\n",
        "  print(num1)\n",
        "else:\n",
        "  print(num2)"
      ],
      "metadata": {
        "id": "dc5oT2RxjUJX"
      },
      "execution_count": null,
      "outputs": []
    },
    {
      "cell_type": "code",
      "source": [
        "#3.\tEscreva um programa que peça ao usuário para inserir um número inteiro e imprima se o número é divisível por 3.\n",
        "\n",
        "num = int(input(\"Fala um numero ae man: \"))\n",
        "\n",
        "if (num % 3 == 0):\n",
        "  print('É divisivel por 3 man')\n",
        "else:\n",
        "  print('Não é divisivel por 3 man')"
      ],
      "metadata": {
        "colab": {
          "base_uri": "https://localhost:8080/"
        },
        "id": "ptdsm3cijn7k",
        "outputId": "5dc15aaf-a1ad-4f72-cf49-e10626c182e4"
      },
      "execution_count": null,
      "outputs": [
        {
          "output_type": "stream",
          "name": "stdout",
          "text": [
            "Fala um numero ae man: 0\n",
            "Não é divisivel por 3 man\n"
          ]
        }
      ]
    },
    {
      "cell_type": "code",
      "source": [
        "#4.\tEscreva um programa que peça ao usuário para inserir dois números e imprima o menor número.\n",
        "\n",
        "num1 = int(input(\"Fala um numero ae man: \"))\n",
        "num2 = int(input(\"Fala outro numero ae man: \"))\n",
        "\n",
        "if (num1 < num2):\n",
        "  print(num1)\n",
        "else:\n",
        "  print(num2)"
      ],
      "metadata": {
        "id": "KObzyzytkZOT"
      },
      "execution_count": null,
      "outputs": []
    },
    {
      "cell_type": "code",
      "source": [
        "#5.\tEscreva um programa que peça ao usuário para inserir a sua idade e verifique se ele é maior de idade (idade >= 18) ou não.\n",
        "\n",
        "num = int(input(\"Fala um numero ae man: \"))\n",
        "\n",
        "if(num >= 18):\n",
        "  print('é de maior')\n",
        "else:\n",
        "  print('É um nenêm')"
      ],
      "metadata": {
        "id": "tuvACmLFkgfG"
      },
      "execution_count": null,
      "outputs": []
    },
    {
      "cell_type": "code",
      "source": [
        "#6.\tEscreva um programa que peça ao usuário para inserir um número inteiro e imprima se o número é divisível por 4.\n",
        "\n",
        "num = int(input(\"Fala um numero ae man: \"))\n",
        "\n",
        "if (num % 4 == 0):\n",
        "  print('É divisivel por 4 man')\n",
        "else:\n",
        "  print('Não é divisivel por 4 man')"
      ],
      "metadata": {
        "id": "knf1LMDYk_tj"
      },
      "execution_count": null,
      "outputs": []
    },
    {
      "cell_type": "code",
      "source": [
        "#7.\tEscreva um programa que peça ao usuário para inserir um número e imprima se ele é positivo, negativo ou zero.\n",
        "\n",
        "num = int(input(\"Fala um numero ae man: \"))\n",
        "\n",
        "if(num > 0):\n",
        "  print('Positivo')\n",
        "elif(num < 0):\n",
        "  print('Negativo')\n",
        "else: \n",
        "  print('Zero')"
      ],
      "metadata": {
        "id": "5gdCscCOlHOA"
      },
      "execution_count": null,
      "outputs": []
    },
    {
      "cell_type": "code",
      "source": [
        "#8.\tEscreva um programa que peça ao usuário para inserir um número inteiro e imprima se o número é divisível por 5.\n",
        "\n",
        "num = int(input(\"Fala um numero ae man: \"))\n",
        "\n",
        "if (num % 5 == 0):\n",
        "  print('É divisivel por 5 man')\n",
        "else:\n",
        "  print('Não é divisivel por 5 man')"
      ],
      "metadata": {
        "id": "JC6UC0SAlyRb"
      },
      "execution_count": null,
      "outputs": []
    },
    {
      "cell_type": "code",
      "source": [
        "#9.\tEscreva um programa que peça ao usuário para inserir um número inteiro e calcule o seu quadrado.\n",
        "\n",
        "num = int(input(\"Fala um numero ae man: \"))\n",
        "\n",
        "quadrado = num**2\n",
        "\n",
        "print(\"A area é de: %s\" %quadrado)"
      ],
      "metadata": {
        "colab": {
          "base_uri": "https://localhost:8080/"
        },
        "id": "m65FL0nkmJKf",
        "outputId": "c61435f0-5f36-4179-bd28-3b7598457292"
      },
      "execution_count": null,
      "outputs": [
        {
          "output_type": "stream",
          "name": "stdout",
          "text": [
            "Fala um numero ae man: 2\n",
            "O quadrado é:4\n"
          ]
        }
      ]
    },
    {
      "cell_type": "code",
      "source": [
        "#10. Escreva um programa que peça ao usuário para inserir um número inteiro e imprima se o número é divisível por 7.\n",
        "\n",
        "num = int(input(\"Fala um numero ae man: \"))\n",
        "\n",
        "if (num % 7 == 0):\n",
        "  print('É divisivel por 7 man')\n",
        "else:\n",
        "  print('Não é divisivel por 7 man')"
      ],
      "metadata": {
        "id": "Y5n5CNXjmZvb"
      },
      "execution_count": null,
      "outputs": []
    },
    {
      "cell_type": "code",
      "source": [
        "#11.\tEscreva um programa que peça ao usuário para inserir o lado do quadrado e calcule a sua área.\n",
        "\n",
        "num = int(input(\"Fala um numero ae man: \"))\n",
        "quadrado = num**2\n",
        "\n",
        "print(\"A area é de: %s\" %quadrado)"
      ],
      "metadata": {
        "colab": {
          "base_uri": "https://localhost:8080/"
        },
        "id": "O_qA5B4Hmh9b",
        "outputId": "3bdfe406-476d-4975-845d-f966557cb8b2"
      },
      "execution_count": 26,
      "outputs": [
        {
          "output_type": "stream",
          "name": "stdout",
          "text": [
            "Fala um numero ae man: 2\n",
            "A area é de: 4\n"
          ]
        }
      ]
    },
    {
      "cell_type": "code",
      "source": [
        "#12.\tEscreva um programa que peça ao usuário para inserir dois lados do retângulo e calcule a sua área.\n",
        "\n",
        "num1 = int(input(\"Fala um numero ae man: \"))\n",
        "num2 = int(input(\"Fala outro numero ae man: \"))\n",
        "\n",
        "retangulo = num1*num2\n",
        "\n",
        "print(\"A area é de: %s\" %retangulo)"
      ],
      "metadata": {
        "id": "p1hfN_4BpOom"
      },
      "execution_count": null,
      "outputs": []
    },
    {
      "cell_type": "code",
      "source": [
        "#13.\tEscreva um programa que peça ao usuário o raio de um círculo e imprima sua área.\n",
        "\n",
        "num = float(input(\"Fala um numero ae man: \"))\n",
        "pi = 3.14\n",
        "\n",
        "print(pi * num ** 2)\n"
      ],
      "metadata": {
        "colab": {
          "base_uri": "https://localhost:8080/"
        },
        "id": "Zdsyv07ou8S4",
        "outputId": "91aa0128-0f6a-4b4b-fcd9-50d62bbd9b92"
      },
      "execution_count": 27,
      "outputs": [
        {
          "output_type": "stream",
          "name": "stdout",
          "text": [
            "Fala um numero ae man: 4\n",
            "50.24\n"
          ]
        }
      ]
    },
    {
      "cell_type": "code",
      "source": [
        "#14.\tEscreva um programa que peça ao usuário para inserir uma temperatura em Celsius e imprima a temperatura equivalente em Fahrenheit.\n",
        "\n",
        "num = float(input(\"Fala a temperatura ae: \"))\n",
        "\n",
        "print((num *(9/5))+32)"
      ],
      "metadata": {
        "colab": {
          "base_uri": "https://localhost:8080/"
        },
        "id": "vP7IQqxYvM7D",
        "outputId": "eafeeed8-8b16-41fd-d9bf-f034f0545c61"
      },
      "execution_count": 31,
      "outputs": [
        {
          "output_type": "stream",
          "name": "stdout",
          "text": [
            "Fala a temperatura ae: 34\n",
            "93.2\n"
          ]
        }
      ]
    },
    {
      "cell_type": "code",
      "source": [
        "#15.\tEscreva um programa que peça ao usuário para inserir o seu nome e idade e imprima uma mensagem personalizada de boas-vindas.\n",
        "\n",
        "nome = str(input('Qual seu nome?:'))\n",
        "idade = int(input('Qual sua idade?:'))\n",
        "\n",
        "#print('Ola {} de {} anos tudo bem com você?'.format(nome, idade))  jeito mais legal de fazer é esse aqui\n",
        "\n",
        "print('Ola ', nome ,', parabens pelos seus %s \"anos de idade' %idade) #jeito sem usar o .format "
      ],
      "metadata": {
        "colab": {
          "base_uri": "https://localhost:8080/"
        },
        "id": "bovWYsc3vluH",
        "outputId": "99307a34-4335-4fe2-b9cd-f8b2718257ee"
      },
      "execution_count": 46,
      "outputs": [
        {
          "output_type": "stream",
          "name": "stdout",
          "text": [
            "Qual seu nome?:cesar\n",
            "Qual sua idade?:12\n",
            "Ola  cesar , parabens pelos seus 12 \"anos de idade\n"
          ]
        }
      ]
    },
    {
      "cell_type": "code",
      "source": [
        "#16.\tEscreva um programa que peça ao usuário para inserir três números e imprima o maior número.\n",
        "\n",
        "#Jeito mas legal\n",
        "#numeros = []\n",
        "#for i in range(3):\n",
        "#  num = int(input(\"Fala um numero ae man: \"))\n",
        "#  numeros.append(num)\n",
        "#numeros.sort()\n",
        "#print(numeros[2])\n",
        "\n",
        "\n",
        "num1 = int(input(\"Fala um numero ae man: \"))\n",
        "num2 = int(input(\"Fala outro numero ae man: \"))\n",
        "num3 = int(input('Fala mais um numero ae pls mano: '))\n",
        "\n",
        "if(num1 >= num2 and num1 >= num3):\n",
        "  print(num1)\n",
        "elif(num2 >= num1 and num2 >= num3):\n",
        "  print(num2)\n",
        "else:\n",
        "  print(num3)\n",
        "\n",
        "\n"
      ],
      "metadata": {
        "colab": {
          "base_uri": "https://localhost:8080/"
        },
        "id": "pibAn8OGx9Wa",
        "outputId": "dee2f3a4-3866-447d-c4bb-280aaf97c17a"
      },
      "execution_count": 70,
      "outputs": [
        {
          "output_type": "stream",
          "name": "stdout",
          "text": [
            "Fala um numero ae man: 4\n",
            "Fala outro numero ae man: 3\n",
            "Fala mais um numero ae pls mano: 4\n",
            "4\n"
          ]
        }
      ]
    },
    {
      "cell_type": "code",
      "source": [
        "#17.\tEscreva um programa que peça ao usuário para inserir a sua altura em metros e peso em quilogramas e calcule o seu IMC (Índice de Massa Corporal). Em seguida, imprima a sua categoria de peso (abaixo do peso, peso normal, sobrepeso, obesidade grau 1, obesidade grau 2 ou obesidade grau 3).\n",
        "\n",
        "alt = float(input(\"Fala tua altura em metros ai: \"))\n",
        "peso = float(input(\"Fala teu peso em quilogramas: \"))\n",
        "imc = peso/(alt*alt)\n",
        "\n",
        "if(imc < 18.5):\n",
        "  print('abaixo do peso')\n",
        "elif(imc >= 18.5 and imc < 25):\n",
        "  print('Tá saudavel')\n",
        "elif(imc >= 25 and imc < 30):\n",
        "  print('Sobrepeso')\n",
        "elif(imc >= 30 and imc < 35):\n",
        "  print('Obesidade tipo I')\n",
        "elif(imc >= 35 and imc < 40):\n",
        "  print('Obesidade tipo II')\n",
        "else:\n",
        "  print('Obesidade tipo III')\n",
        "#print(imc) detalhe legal"
      ],
      "metadata": {
        "colab": {
          "base_uri": "https://localhost:8080/"
        },
        "id": "sW4QCsXE1yOZ",
        "outputId": "6b8acc2a-769a-4912-b9c1-fe1360d5f314"
      },
      "execution_count": 61,
      "outputs": [
        {
          "output_type": "stream",
          "name": "stdout",
          "text": [
            "Fala tua altura em metros ai: 1.74\n",
            "Fala teu peso em quilogramas: 90\n",
            "Sobrepeso\n",
            "29.72651605231867\n"
          ]
        }
      ]
    },
    {
      "cell_type": "code",
      "source": [
        "#18.\tEscreva um programa que peça ao usuário para inserir três números e imprima o menor número.\n",
        "\n",
        "#Jeito mas legal\n",
        "#numeros = []\n",
        "#for i in range(3):\n",
        "#  num = int(input(\"Fala um numero ae man: \"))\n",
        "#  numeros.append(num)\n",
        "#numeros.sort(reverse=True)\n",
        "#print(numeros[2])\n",
        "\n",
        "\n",
        "num1 = int(input(\"Fala um numero ae man: \"))\n",
        "num2 = int(input(\"Fala outro numero ae man: \"))\n",
        "num3 = int(input('Fala mais um numero ae pls mano: '))\n",
        "\n",
        "if(num1 <= num2 and num1 <= num3):\n",
        "  print(num1)\n",
        "elif(num2 <= num1 and num2 <= num3):\n",
        "  print(num2)\n",
        "else:\n",
        "  print(num3)\n"
      ],
      "metadata": {
        "colab": {
          "base_uri": "https://localhost:8080/"
        },
        "id": "S8c5RkDS7Vfa",
        "outputId": "d234d064-259b-4092-b9d7-d17343f448e6"
      },
      "execution_count": 77,
      "outputs": [
        {
          "output_type": "stream",
          "name": "stdout",
          "text": [
            "Fala um numero ae man: 2\n",
            "Fala outro numero ae man: 2\n",
            "Fala mais um numero ae pls mano: 1\n",
            "1\n"
          ]
        }
      ]
    },
    {
      "cell_type": "code",
      "source": [
        "\n",
        "#19.\tEscreva um programa em que o usuário possa calcular o valor futuro de um investimento com juros simples ou compostos. O programa deve pedir o valor inicial do investimento, a taxa de juros e o período de tempo. O programa então calcula o valor futuro do investimento e exibe o resultado.\n",
        "\n",
        "valor = float(input('Quanto quer investir?: '))\n",
        "taxa = float(input('Qual a taxa dos juros?: '))\n",
        "tempo = int(input('Quantos meses?: '))\n",
        "\n",
        "j_simples =valor * taxa * tempo\n",
        "j_comp = valor * ((taxa + 1)**tempo)\n",
        "\n",
        "print('Você tera no final de seu investimento: R$%s se investir em juros simples'%j_simples)\n",
        "print('Você tera no final de seu investimento: R$%s se investir em juros compostos'%j_comp)"
      ],
      "metadata": {
        "colab": {
          "base_uri": "https://localhost:8080/"
        },
        "id": "V-_1MAIj85DR",
        "outputId": "f84a2b23-acaf-4245-9d19-29d680c954fc"
      },
      "execution_count": 80,
      "outputs": [
        {
          "output_type": "stream",
          "name": "stdout",
          "text": [
            "Quanto quer investir?: 10000\n",
            "Qual a taxa dos juros?: 0.4\n",
            "Quantos meses?: 12\n",
            "Você tera no final de seu investimento: R$48000.0 se investir em juros simples\n",
            "Você tera no final de seu investimento: R$566939.1237529595 se investir em juros compostos\n"
          ]
        }
      ]
    },
    {
      "cell_type": "code",
      "source": [
        "# 20.\tEscreva um programa em que o usuário possa calcular o retorno sobre um investimento (ROI). O programa deve pedir o custo do investimento, a receita gerada e o período de tempo. O programa então calcula o ROI e exibe o resultado.\n",
        "\n",
        "valor = float(input('Valor investido?: '))\n",
        "retorno = float(input('Retorno?: '))\n",
        "roi = (retorno - valor)/valor *100\n",
        "print(\"Seu ROI foi de %s porcento\" %roi)"
      ],
      "metadata": {
        "colab": {
          "base_uri": "https://localhost:8080/"
        },
        "id": "yebIq1zl-qTQ",
        "outputId": "57ca17d0-2eca-435a-9d43-68b1ada62b73"
      },
      "execution_count": 89,
      "outputs": [
        {
          "output_type": "stream",
          "name": "stdout",
          "text": [
            "Valor investido?: 10\n",
            "Retorno?: 10000\n",
            "Voce lucrou 99900.0 porcento\n"
          ]
        }
      ]
    }
  ]
}