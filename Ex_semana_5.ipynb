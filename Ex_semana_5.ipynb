{
  "nbformat": 4,
  "nbformat_minor": 0,
  "metadata": {
    "colab": {
      "provenance": [],
      "authorship_tag": "ABX9TyO0OzFbaa9IJwOU0jLFXjrL",
      "include_colab_link": true
    },
    "kernelspec": {
      "name": "python3",
      "display_name": "Python 3"
    },
    "language_info": {
      "name": "python"
    }
  },
  "cells": [
    {
      "cell_type": "markdown",
      "metadata": {
        "id": "view-in-github",
        "colab_type": "text"
      },
      "source": [
        "<a href=\"https://colab.research.google.com/github/Czar210/PUC-CDIA/blob/1-semestre/Ex_semana_5.ipynb\" target=\"_parent\"><img src=\"https://colab.research.google.com/assets/colab-badge.svg\" alt=\"Open In Colab\"/></a>"
      ]
    },
    {
      "cell_type": "code",
      "execution_count": 20,
      "metadata": {
        "colab": {
          "base_uri": "https://localhost:8080/"
        },
        "id": "EinYq_Iab1an",
        "outputId": "f10de2aa-591c-4d5c-b661-ce126438a0a5"
      },
      "outputs": [
        {
          "output_type": "stream",
          "name": "stdout",
          "text": [
            "Fala um numero -2\n",
            "negativo\n"
          ]
        }
      ],
      "source": [
        "#1. Escreva um programa que peça ao usuário um número e exiba se o número é positivo, negativo ou zero.\n",
        "n = float(input(\"Fala um numero \"))\n",
        "\n",
        "if n>0:\n",
        "  print('positivo')\n",
        "elif n<0:\n",
        "  print('negativo')\n",
        "else:\n",
        "  print('zero')"
      ]
    },
    {
      "cell_type": "code",
      "source": [
        "#2. Escreva um programa que peça ao usuário dois números e exiba qual deles é o maior.\n",
        "\n",
        "num1 = float(input(\"Fala um numero ae man: \"))\n",
        "num2 = float(input(\"Fala outro numero ae man: \"))\n",
        "\n",
        "if (num1 > num2):\n",
        "  print(num1)\n",
        "else:\n",
        "  print(num2)"
      ],
      "metadata": {
        "colab": {
          "base_uri": "https://localhost:8080/"
        },
        "id": "R_PRREBUc2BU",
        "outputId": "47ac5466-730f-44b2-fea3-0761e7bbe3ca"
      },
      "execution_count": 21,
      "outputs": [
        {
          "output_type": "stream",
          "name": "stdout",
          "text": [
            "Fala um numero ae man: 3\n",
            "Fala outro numero ae man: 2\n",
            "3.0\n"
          ]
        }
      ]
    },
    {
      "cell_type": "code",
      "source": [
        "#3. Escreva um programa que peça ao usuário um número e exiba se ele é par ou ímpar.\n",
        "\n",
        "num = int(input(\"Fala um numero ae man: \"))\n",
        "\n",
        "if (num % 2 == 0):\n",
        "  print('Par')\n",
        "else:\n",
        "  print('Impar')"
      ],
      "metadata": {
        "colab": {
          "base_uri": "https://localhost:8080/"
        },
        "id": "O7C-ZiK1dIJB",
        "outputId": "584c6cfc-c0d7-4032-93df-1db94977e5b8"
      },
      "execution_count": 22,
      "outputs": [
        {
          "output_type": "stream",
          "name": "stdout",
          "text": [
            "Fala um numero ae man: 3\n",
            "Impar\n"
          ]
        }
      ]
    },
    {
      "cell_type": "code",
      "source": [
        "#4. Escreva um programa que peça ao usuário um ano e exiba se ele é bissexto ou não.\n",
        "\n",
        "num = int(input(\"Fala um ano ae man: \"))\n",
        "\n",
        "if (num % 4 == 0):\n",
        "  print('É bissexto')\n",
        "else:\n",
        "  print('Não é bissexto')"
      ],
      "metadata": {
        "colab": {
          "base_uri": "https://localhost:8080/"
        },
        "id": "yuNK17Z4de32",
        "outputId": "641f9a91-84e4-4c1c-8e17-b4d8295d3fa1"
      },
      "execution_count": 23,
      "outputs": [
        {
          "output_type": "stream",
          "name": "stdout",
          "text": [
            "Fala um ano ae man: 2004\n",
            "É bissexto\n"
          ]
        }
      ]
    },
    {
      "cell_type": "code",
      "source": [
        "#5. Escreva um programa que peça ao usuário uma temperatura em graus Fahrenheit e a exiba em graus Celsius.\n",
        "\n",
        "n = float(input('Fala ai a temperatura '))\n",
        "n2 = float((n - 32) * 5/9)\n",
        "\n",
        "print(f'A temperatura é {n2}')"
      ],
      "metadata": {
        "colab": {
          "base_uri": "https://localhost:8080/"
        },
        "id": "b6V5Q31sd45i",
        "outputId": "09196131-4fc8-4d1c-b702-f61c67671ccd"
      },
      "execution_count": 25,
      "outputs": [
        {
          "output_type": "stream",
          "name": "stdout",
          "text": [
            "Fala ai a temperatura 12\n",
            "A temperatura é -11.11111111111111\n"
          ]
        }
      ]
    },
    {
      "cell_type": "code",
      "source": [
        "#6. Escreva um programa que peça ao usuário uma idade e exiba se ela pode votar ou não (idade mínima de 16 anos).\n",
        "\n",
        "num = int(input(\"Fala tua idade ae man: \"))\n",
        "\n",
        "if(num >= 16):\n",
        "  print('Pode votar')\n",
        "else:\n",
        "  print('Só daqui 4 anos irmão')"
      ],
      "metadata": {
        "colab": {
          "base_uri": "https://localhost:8080/"
        },
        "id": "2dcuEYOEiVKC",
        "outputId": "533d4ade-9370-4934-bc5c-87492ee96501"
      },
      "execution_count": 26,
      "outputs": [
        {
          "output_type": "stream",
          "name": "stdout",
          "text": [
            "Fala tua idade ae man: 18\n",
            "Pode votar\n"
          ]
        }
      ]
    },
    {
      "cell_type": "code",
      "source": [
        "#7. Escreva um programa que peça ao usuário uma data no formato dd/mm/aaaa e exiba se ela é válida ou não.\n",
        "\n",
        "data = input(\"Digite uma data no formato dd/mm/aaaa:\")\n",
        "dia, mes, ano = data.split(\"/\")\n",
        "dia = int(dia)\n",
        "mes = int(mes)\n",
        "ano = int(ano)\n",
        "\n",
        "valida = True\n",
        "\n",
        "if mes < 1 or mes > 12:\n",
        "    valida = False\n",
        "if dia < 1 or dia > 31:\n",
        "    valida = False\n",
        "elif mes == 2: \n",
        "      if dia > 28:\n",
        "          valida = False\n",
        "elif mes == 4 or mes == 6 or mes == 9 or mes == 11: \n",
        "    if dia > 30:\n",
        "        valida = False\n",
        "else: \n",
        "    if dia > 31:\n",
        "        valida = False\n",
        "\n",
        "if valida:\n",
        "    print(\"é válido.\")\n",
        "else:\n",
        "    print(\"é inválido.\")\n",
        "\n"
      ],
      "metadata": {
        "colab": {
          "base_uri": "https://localhost:8080/"
        },
        "id": "Y2JMnnDuin6z",
        "outputId": "1cdfa691-a4ad-44d7-f583-fd44c990fc2b"
      },
      "execution_count": 6,
      "outputs": [
        {
          "output_type": "stream",
          "name": "stdout",
          "text": [
            "Digite uma data no formato dd/mm/aaaa:32/02/2000\n",
            "é inválido.\n"
          ]
        }
      ]
    },
    {
      "cell_type": "code",
      "source": [
        "#8. Escreva um programa que peça ao usuário um número e exiba se ele é um quadrado perfeito ou não.\n",
        "\n",
        "num = int(input(\"Digite um número: \"))\n",
        "\n",
        "raiz = int(num ** 0.5)\n",
        "if raiz ** 2 == num:\n",
        "    print(num, \"é quadrado perfeito.\")\n",
        "else:\n",
        "    print(num, \"não é quadrado perfeito.\")"
      ],
      "metadata": {
        "colab": {
          "base_uri": "https://localhost:8080/"
        },
        "id": "7rGBz_qfqYly",
        "outputId": "5dad1a4a-8b59-4b20-84c0-3db5257a77e4"
      },
      "execution_count": 27,
      "outputs": [
        {
          "output_type": "stream",
          "name": "stdout",
          "text": [
            "Digite um número: 16\n",
            "16 é quadrado perfeito.\n"
          ]
        }
      ]
    },
    {
      "cell_type": "code",
      "source": [
        "#9. Escreva um programa que peça ao usuário a idade dele e exiba se ele pode dirigir ou não (idade mínima de 18 anos).\n",
        "\n",
        "num = int(input(\"Fala um numero ae man: \"))\n",
        "\n",
        "if(num >= 18):\n",
        "  print('é de maior')\n",
        "else:\n",
        "  print('É um nenêm')"
      ],
      "metadata": {
        "colab": {
          "base_uri": "https://localhost:8080/"
        },
        "id": "ngh8UPMopsPH",
        "outputId": "1875744f-71e1-4c4d-9a93-47e8c3dd354f"
      },
      "execution_count": 28,
      "outputs": [
        {
          "output_type": "stream",
          "name": "stdout",
          "text": [
            "Fala um numero ae man: 18\n",
            "é de maior\n"
          ]
        }
      ]
    },
    {
      "cell_type": "code",
      "source": [
        "#10. Escreva um programa que peça ao usuário dois números e exiba o resultado da divisão do primeiro pelo segundo, mas apenas se o segundo número for diferente de zero.\n",
        "\n",
        "num1 = int(input(\"Fala um numero ae man: \"))\n",
        "num2 = int(input(\"Fala outro numero ae man: \"))\n",
        "\n",
        "if num2 != 0:\n",
        "  print(num1/num2)"
      ],
      "metadata": {
        "colab": {
          "base_uri": "https://localhost:8080/"
        },
        "id": "zGUyKLpot7e-",
        "outputId": "5aee22e8-653f-4567-8ecf-0180363cae93"
      },
      "execution_count": 29,
      "outputs": [
        {
          "output_type": "stream",
          "name": "stdout",
          "text": [
            "Fala um numero ae man: 2\n",
            "Fala outro numero ae man: 4\n",
            "0.5\n"
          ]
        }
      ]
    },
    {
      "cell_type": "code",
      "source": [
        "#11. Escreva um programa que peça ao usuário uma nota de 0 a 10 e exiba se ela é insuficiente, regular, boa ou excelente.\n",
        "\n",
        "num = int(input(\"Fala sua nota: \"))\n",
        "\n",
        "if num<5:\n",
        "  print('nota insuficiente')\n",
        "elif num < 7:\n",
        "  print('nota regular')\n",
        "elif num < 9:\n",
        "  print('nota boa')\n",
        "else:\n",
        "  print('nota excelente')\n",
        "\n"
      ],
      "metadata": {
        "colab": {
          "base_uri": "https://localhost:8080/"
        },
        "id": "HkcGGK9quM3F",
        "outputId": "1f74cbc2-05ea-47d6-b2a9-9976d992ef02"
      },
      "execution_count": 30,
      "outputs": [
        {
          "output_type": "stream",
          "name": "stdout",
          "text": [
            "Fala sua nota: 9\n",
            "nota excelente\n"
          ]
        }
      ]
    },
    {
      "cell_type": "code",
      "source": [
        "#12. Escreva um programa que peça ao usuário uma letra e exiba se ela é uma vogal ou uma consoante.\n",
        "\n",
        "let = str(input('fala uma letra '))\n",
        "vog = ['A', 'a', 'E','e', 'I', 'i', 'O', 'o', 'U', 'u']\n",
        "if let in vog:\n",
        "  print(\"é vogal\")\n",
        "else:\n",
        "  print('não é vogal')"
      ],
      "metadata": {
        "colab": {
          "base_uri": "https://localhost:8080/"
        },
        "id": "A4XhnPWJwoFo",
        "outputId": "aaa2615a-7ab0-4d82-b99e-b02f62cc5483"
      },
      "execution_count": 18,
      "outputs": [
        {
          "output_type": "stream",
          "name": "stdout",
          "text": [
            "fala uma letra U\n",
            "é vogal\n"
          ]
        }
      ]
    },
    {
      "cell_type": "code",
      "source": [
        "#13. Escreva um programa que peça ao usuário para inserir dois números e imprima o maior número.\n",
        "\n",
        "num1 = int(input(\"Fala um numero ae man: \"))\n",
        "num2 = int(input(\"Fala outro numero ae man: \"))\n",
        "\n",
        "if (num1 > num2):\n",
        "  print(num1)\n",
        "else:\n",
        "  print(num2)"
      ],
      "metadata": {
        "colab": {
          "base_uri": "https://localhost:8080/"
        },
        "id": "drE2zlWUyZkZ",
        "outputId": "516e2260-305d-44a2-d94e-852b45af989b"
      },
      "execution_count": 31,
      "outputs": [
        {
          "output_type": "stream",
          "name": "stdout",
          "text": [
            "Fala um numero ae man: 2\n",
            "Fala outro numero ae man: 3\n",
            "3\n"
          ]
        }
      ]
    },
    {
      "cell_type": "code",
      "source": [
        "#14. Escreva um programa que peça ao usuário para inserir um número inteiro e imprima se o número é divisível por 3.\n",
        "\n",
        "num = int(input(\"Fala um numero ae man: \"))\n",
        "\n",
        "if (num % 3 == 0):\n",
        "  print('É divisivel por 3 man')\n",
        "else:\n",
        "  print('Não é divisivel por 3 man')"
      ],
      "metadata": {
        "colab": {
          "base_uri": "https://localhost:8080/"
        },
        "id": "L6rVa77AynJG",
        "outputId": "7f87056b-8524-4700-98b7-d3a8ed7c91ba"
      },
      "execution_count": 32,
      "outputs": [
        {
          "output_type": "stream",
          "name": "stdout",
          "text": [
            "Fala um numero ae man: 9\n",
            "É divisivel por 3 man\n"
          ]
        }
      ]
    },
    {
      "cell_type": "code",
      "source": [
        "#15. Escreva um programa que peça ao usuário para inserir um número inteiro e calcule o seu quadrado.\n",
        "\n",
        "num = int(input(\"Fala um numero ae man: \"))\n",
        "\n",
        "quadrado = num**2\n",
        "\n",
        "print(\"O quadrado é de: %s\" %quadrado)"
      ],
      "metadata": {
        "colab": {
          "base_uri": "https://localhost:8080/"
        },
        "id": "S0LhZREdyrII",
        "outputId": "ed961353-6b12-422f-b00e-19adb5c54722"
      },
      "execution_count": 33,
      "outputs": [
        {
          "output_type": "stream",
          "name": "stdout",
          "text": [
            "Fala um numero ae man: 24\n",
            "O quadrado é de: 576\n"
          ]
        }
      ]
    },
    {
      "cell_type": "code",
      "source": [
        "#16. Escreva um programa que peça ao usuário para inserir o lado do quadrado e calcule a sua área.\n",
        "\n",
        "num = int(input(\"Fala o lado ae man: \"))\n",
        "\n",
        "quadrado = num**2\n",
        "if num>0:\n",
        "  print(\"A area é de: %s\" %quadrado)\n",
        "else:\n",
        "  print('quadrado não existe')"
      ],
      "metadata": {
        "colab": {
          "base_uri": "https://localhost:8080/"
        },
        "id": "iSoQa4kUy1O3",
        "outputId": "bbc71629-a84f-4e2e-e92f-6353e999f9c0"
      },
      "execution_count": 34,
      "outputs": [
        {
          "output_type": "stream",
          "name": "stdout",
          "text": [
            "Fala o lado ae man: -21\n",
            "quadrado não existe\n"
          ]
        }
      ]
    },
    {
      "cell_type": "code",
      "source": [
        "#17. Escreva um programa que peça ao usuário para inserir quatro números e imprima o maior número\n",
        "\n",
        "num1 = int(input(\"Fala um numero ae man: \"))\n",
        "num2 = int(input(\"Fala outro numero ae man: \"))\n",
        "num3 = int(input(\"Fala outro numero ae man: \"))\n",
        "num4 = int(input(\"Fala outro numero ae man: \"))\n",
        "\n",
        "maior = num1\n",
        "if (num1 >= num2):\n",
        "  maior = num1\n",
        "else:\n",
        "  maior = num2\n",
        "\n",
        "if (num2 >= num3):\n",
        "  maior = num2\n",
        "else:\n",
        "  maior = num3\n",
        "\n",
        "if (num3 >= num4):\n",
        "  maior = num3\n",
        "else:\n",
        "  maior = num4\n",
        "\n",
        "print(f'o maior numero é {maior}')\n"
      ],
      "metadata": {
        "colab": {
          "base_uri": "https://localhost:8080/"
        },
        "id": "u2VZgdpFzECG",
        "outputId": "c6a075f0-8dc0-4763-93cb-5fbf65909df2"
      },
      "execution_count": 35,
      "outputs": [
        {
          "output_type": "stream",
          "name": "stdout",
          "text": [
            "Fala um numero ae man: 3\n",
            "Fala outro numero ae man: 6\n",
            "Fala outro numero ae man: 2\n",
            "Fala outro numero ae man: 999\n",
            "o maior numero é 999\n"
          ]
        }
      ]
    },
    {
      "cell_type": "code",
      "source": [
        "#18. Escreva um programa que peça ao usuário para inserir um número inteiro e imprima se o número é divisível por 5.\n",
        "\n",
        "num = int(input(\"Fala um numero ae man: \"))\n",
        "\n",
        "if (num % 5 == 0):\n",
        "  print('É divisivel por 5 man')\n",
        "else:\n",
        "  print('Não é divisivel por 5 man')"
      ],
      "metadata": {
        "colab": {
          "base_uri": "https://localhost:8080/"
        },
        "id": "M58e-dUVzkzE",
        "outputId": "df46d73b-a35a-4e5e-a760-5776fd32e8b8"
      },
      "execution_count": 36,
      "outputs": [
        {
          "output_type": "stream",
          "name": "stdout",
          "text": [
            "Fala um numero ae man: 381929831297831279831892390\n",
            "É divisivel por 5 man\n"
          ]
        }
      ]
    }
  ]
}